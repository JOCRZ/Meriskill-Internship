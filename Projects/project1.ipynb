{
 "cells": [
  {
   "cell_type": "code",
   "execution_count": 1,
   "metadata": {},
   "outputs": [],
   "source": [
    "import pandas as pd"
   ]
  },
  {
   "cell_type": "code",
   "execution_count": 7,
   "metadata": {},
   "outputs": [],
   "source": [
    "data = pd.read_csv('Project 1 - Sales Data Analysis\\Dataset MeriSKILL.zip')"
   ]
  },
  {
   "cell_type": "code",
   "execution_count": 35,
   "metadata": {},
   "outputs": [],
   "source": [
    "df = data.copy()"
   ]
  },
  {
   "cell_type": "code",
   "execution_count": 36,
   "metadata": {},
   "outputs": [],
   "source": [
    "df.drop(columns='Unnamed: 0',axis=1,inplace=True)"
   ]
  },
  {
   "cell_type": "code",
   "execution_count": 37,
   "metadata": {},
   "outputs": [
    {
     "data": {
      "text/plain": [
       "Index(['Order ID', 'Product', 'Quantity Ordered', 'Price Each', 'Order Date',\n",
       "       'Purchase Address', 'Month', 'Sales', 'City', 'Hour'],\n",
       "      dtype='object')"
      ]
     },
     "execution_count": 37,
     "metadata": {},
     "output_type": "execute_result"
    }
   ],
   "source": [
    "df.columns"
   ]
  },
  {
   "attachments": {},
   "cell_type": "markdown",
   "metadata": {},
   "source": [
    "#### About columns"
   ]
  },
  {
   "attachments": {},
   "cell_type": "markdown",
   "metadata": {},
   "source": [
    "- Order ID: This column represents a unique identifier for each order. It can be used to track individual orders and analyze order-related metrics such as order frequency, order size, or customer loyalty.\n",
    "\n",
    "- Product: This column contains information about the products sold. It can be used to analyze product-specific metrics such as sales by product, product popularity, or product performance over time.\n",
    "\n",
    "- Quantity Ordered: This column indicates the quantity of each product ordered in a particular transaction. It can be used to analyze sales volume, identify popular products, or calculate average order size.\n",
    "\n",
    "- Price Each: This column represents the price of each product in a transaction. It can be used to calculate total sales, average order value, or analyze pricing strategies.\n",
    "\n",
    "- Order Date: This column captures the date and time of each order. It can be used to analyze sales trends over time, identify seasonality patterns, or track performance by specific time periods (e.g., monthly, quarterly).\n",
    " \n",
    "- Purchase Address: This column contains the address where each order was placed. It can be used to analyze sales by location, identify high-performing regions, or understand customer demographics.\n",
    "\n",
    "- Month: This column represents the month in which each order was placed. It can be used to analyze monthly sales trends, compare performance across different months, or identify seasonal patterns.\n",
    "\n",
    "- Sales: This column represents the total sales amount for each order. It is calculated by multiplying the Quantity Ordered by the Price Each. It can be used as a primary KPI to analyze overall sales performance, track revenue growth, or compare sales across different products or regions.\n",
    "\n",
    "- City: This column captures the city where each order was placed. It can be used to analyze sales by city, identify top-performing cities, or target specific geographical areas for marketing campaigns.\n",
    "\n",
    "- Hour: This column indicates the hour of the day when each order was placed. It can be used to analyze sales patterns throughout the day, identify peak hours, or optimize staffing and inventory management.\n",
    "\n",
    "\n",
    "Based on these columns, some potential KPIs to consider for analysis could include total sales, average order value, sales by product category, sales by city or region, sales trends over time, customer segmentation based on purchase behavior, or conversion rates."
   ]
  },
  {
   "attachments": {},
   "cell_type": "markdown",
   "metadata": {},
   "source": [
    "#### Important KPI's"
   ]
  },
  {
   "attachments": {},
   "cell_type": "markdown",
   "metadata": {},
   "source": [
    "- Total Sales: This KPI represents the overall revenue generated from sales. It provides an overview of the business's performance and can be used to track revenue growth over time.\n",
    "\n",
    "- Sales by Time Period: Analyzing sales trends over different time periods (e.g., monthly, quarterly, yearly) helps identify seasonality patterns, understand sales fluctuations, and make informed decisions about resource allocation and inventory management.\n",
    "\n",
    "- Top-Selling Products: Identifying the best-selling products in terms of quantity sold or revenue generated can help focus marketing efforts, optimize inventory levels, and identify opportunities for cross-selling or upselling.\n",
    "\n",
    "- Profit Margins: Calculating profit margins by product or product category provides insights into the profitability of different items. This information can guide pricing strategies, cost management, and product portfolio decisions.\n",
    "\n",
    "- Customer Acquisition and Retention: Tracking the number of new customers acquired and the rate of customer retention helps evaluate the effectiveness of marketing campaigns, customer loyalty programs, and customer satisfaction initiatives.\n",
    "\n",
    "- Average Order Value: This KPI measures the average amount spent per order. It helps understand customer purchasing behavior, identify opportunities for upselling or bundling products, and evaluate the effectiveness of pricing strategies.\n",
    "\n",
    "- Sales by Region or Market Segment: Analyzing sales performance by region or market segment provides insights into geographical or demographic preferences, enabling targeted marketing efforts and expansion strategies.\n",
    "\n",
    "- Sales Conversion Rate: This KPI measures the percentage of leads or prospects that convert into paying customers. It helps evaluate the effectiveness of sales and marketing efforts, identify bottlenecks in the sales funnel, and optimize conversion strategies.\n",
    "\n",
    "- Customer Lifetime Value (CLV): CLV represents the predicted revenue a customer will generate over their entire relationship with the business. It helps prioritize customer acquisition and retention strategies, identify high-value customers, and allocate resources effectively.\n",
    "\n",
    "- Return on Investment (ROI): Calculating the ROI for marketing campaigns or sales initiatives helps evaluate their effectiveness and make data-driven decisions about resource allocation and budgeting.\n",
    "\n",
    "These KPIs provide a comprehensive view of sales performance, customer behavior, and profitability. By analyzing these metrics, you can gain valuable insights to optimize sales strategies, identify growth opportunities, and make informed business decisions."
   ]
  },
  {
   "cell_type": "code",
   "execution_count": 38,
   "metadata": {},
   "outputs": [
    {
     "name": "stdout",
     "output_type": "stream",
     "text": [
      "<class 'pandas.core.frame.DataFrame'>\n",
      "RangeIndex: 185950 entries, 0 to 185949\n",
      "Data columns (total 10 columns):\n",
      " #   Column            Non-Null Count   Dtype  \n",
      "---  ------            --------------   -----  \n",
      " 0   Order ID          185950 non-null  int64  \n",
      " 1   Product           185950 non-null  object \n",
      " 2   Quantity Ordered  185950 non-null  int64  \n",
      " 3   Price Each        185950 non-null  float64\n",
      " 4   Order Date        185950 non-null  object \n",
      " 5   Purchase Address  185950 non-null  object \n",
      " 6   Month             185950 non-null  int64  \n",
      " 7   Sales             185950 non-null  float64\n",
      " 8   City              185950 non-null  object \n",
      " 9   Hour              185950 non-null  int64  \n",
      "dtypes: float64(2), int64(4), object(4)\n",
      "memory usage: 14.2+ MB\n"
     ]
    }
   ],
   "source": [
    "df.info()"
   ]
  },
  {
   "cell_type": "code",
   "execution_count": 39,
   "metadata": {},
   "outputs": [
    {
     "data": {
      "text/html": [
       "<div>\n",
       "<style scoped>\n",
       "    .dataframe tbody tr th:only-of-type {\n",
       "        vertical-align: middle;\n",
       "    }\n",
       "\n",
       "    .dataframe tbody tr th {\n",
       "        vertical-align: top;\n",
       "    }\n",
       "\n",
       "    .dataframe thead th {\n",
       "        text-align: right;\n",
       "    }\n",
       "</style>\n",
       "<table border=\"1\" class=\"dataframe\">\n",
       "  <thead>\n",
       "    <tr style=\"text-align: right;\">\n",
       "      <th></th>\n",
       "      <th>Order ID</th>\n",
       "      <th>Quantity Ordered</th>\n",
       "      <th>Price Each</th>\n",
       "      <th>Month</th>\n",
       "      <th>Sales</th>\n",
       "      <th>Hour</th>\n",
       "    </tr>\n",
       "  </thead>\n",
       "  <tbody>\n",
       "    <tr>\n",
       "      <th>count</th>\n",
       "      <td>185950.000000</td>\n",
       "      <td>185950.000000</td>\n",
       "      <td>185950.000000</td>\n",
       "      <td>185950.000000</td>\n",
       "      <td>185950.000000</td>\n",
       "      <td>185950.000000</td>\n",
       "    </tr>\n",
       "    <tr>\n",
       "      <th>mean</th>\n",
       "      <td>230417.569379</td>\n",
       "      <td>1.124383</td>\n",
       "      <td>184.399735</td>\n",
       "      <td>7.059140</td>\n",
       "      <td>185.490917</td>\n",
       "      <td>14.413305</td>\n",
       "    </tr>\n",
       "    <tr>\n",
       "      <th>std</th>\n",
       "      <td>51512.737110</td>\n",
       "      <td>0.442793</td>\n",
       "      <td>332.731330</td>\n",
       "      <td>3.502996</td>\n",
       "      <td>332.919771</td>\n",
       "      <td>5.423416</td>\n",
       "    </tr>\n",
       "    <tr>\n",
       "      <th>min</th>\n",
       "      <td>141234.000000</td>\n",
       "      <td>1.000000</td>\n",
       "      <td>2.990000</td>\n",
       "      <td>1.000000</td>\n",
       "      <td>2.990000</td>\n",
       "      <td>0.000000</td>\n",
       "    </tr>\n",
       "    <tr>\n",
       "      <th>25%</th>\n",
       "      <td>185831.250000</td>\n",
       "      <td>1.000000</td>\n",
       "      <td>11.950000</td>\n",
       "      <td>4.000000</td>\n",
       "      <td>11.950000</td>\n",
       "      <td>11.000000</td>\n",
       "    </tr>\n",
       "    <tr>\n",
       "      <th>50%</th>\n",
       "      <td>230367.500000</td>\n",
       "      <td>1.000000</td>\n",
       "      <td>14.950000</td>\n",
       "      <td>7.000000</td>\n",
       "      <td>14.950000</td>\n",
       "      <td>15.000000</td>\n",
       "    </tr>\n",
       "    <tr>\n",
       "      <th>75%</th>\n",
       "      <td>275035.750000</td>\n",
       "      <td>1.000000</td>\n",
       "      <td>150.000000</td>\n",
       "      <td>10.000000</td>\n",
       "      <td>150.000000</td>\n",
       "      <td>19.000000</td>\n",
       "    </tr>\n",
       "    <tr>\n",
       "      <th>max</th>\n",
       "      <td>319670.000000</td>\n",
       "      <td>9.000000</td>\n",
       "      <td>1700.000000</td>\n",
       "      <td>12.000000</td>\n",
       "      <td>3400.000000</td>\n",
       "      <td>23.000000</td>\n",
       "    </tr>\n",
       "  </tbody>\n",
       "</table>\n",
       "</div>"
      ],
      "text/plain": [
       "            Order ID  Quantity Ordered     Price Each          Month  \\\n",
       "count  185950.000000     185950.000000  185950.000000  185950.000000   \n",
       "mean   230417.569379          1.124383     184.399735       7.059140   \n",
       "std     51512.737110          0.442793     332.731330       3.502996   \n",
       "min    141234.000000          1.000000       2.990000       1.000000   \n",
       "25%    185831.250000          1.000000      11.950000       4.000000   \n",
       "50%    230367.500000          1.000000      14.950000       7.000000   \n",
       "75%    275035.750000          1.000000     150.000000      10.000000   \n",
       "max    319670.000000          9.000000    1700.000000      12.000000   \n",
       "\n",
       "               Sales           Hour  \n",
       "count  185950.000000  185950.000000  \n",
       "mean      185.490917      14.413305  \n",
       "std       332.919771       5.423416  \n",
       "min         2.990000       0.000000  \n",
       "25%        11.950000      11.000000  \n",
       "50%        14.950000      15.000000  \n",
       "75%       150.000000      19.000000  \n",
       "max      3400.000000      23.000000  "
      ]
     },
     "execution_count": 39,
     "metadata": {},
     "output_type": "execute_result"
    }
   ],
   "source": [
    "df.describe()"
   ]
  },
  {
   "attachments": {},
   "cell_type": "markdown",
   "metadata": {},
   "source": [
    "Total columns : 10\n",
    "\n",
    "No of Numerical columns : 6\n",
    "\n",
    "No of String columns : 4"
   ]
  },
  {
   "cell_type": "code",
   "execution_count": 47,
   "metadata": {},
   "outputs": [
    {
     "data": {
      "text/html": [
       "<div>\n",
       "<style scoped>\n",
       "    .dataframe tbody tr th:only-of-type {\n",
       "        vertical-align: middle;\n",
       "    }\n",
       "\n",
       "    .dataframe tbody tr th {\n",
       "        vertical-align: top;\n",
       "    }\n",
       "\n",
       "    .dataframe thead th {\n",
       "        text-align: right;\n",
       "    }\n",
       "</style>\n",
       "<table border=\"1\" class=\"dataframe\">\n",
       "  <thead>\n",
       "    <tr style=\"text-align: right;\">\n",
       "      <th></th>\n",
       "      <th>Order ID</th>\n",
       "      <th>Product</th>\n",
       "      <th>Quantity Ordered</th>\n",
       "      <th>Price Each</th>\n",
       "      <th>Order Date</th>\n",
       "      <th>Purchase Address</th>\n",
       "      <th>Month</th>\n",
       "      <th>Sales</th>\n",
       "      <th>City</th>\n",
       "      <th>Hour</th>\n",
       "    </tr>\n",
       "  </thead>\n",
       "  <tbody>\n",
       "  </tbody>\n",
       "</table>\n",
       "</div>"
      ],
      "text/plain": [
       "Empty DataFrame\n",
       "Columns: [Order ID, Product, Quantity Ordered, Price Each, Order Date, Purchase Address, Month, Sales, City, Hour]\n",
       "Index: []"
      ]
     },
     "execution_count": 47,
     "metadata": {},
     "output_type": "execute_result"
    }
   ],
   "source": [
    "df[df.duplicated()]"
   ]
  },
  {
   "cell_type": "code",
   "execution_count": 46,
   "metadata": {},
   "outputs": [
    {
     "data": {
      "text/plain": [
       "array([False])"
      ]
     },
     "execution_count": 46,
     "metadata": {},
     "output_type": "execute_result"
    }
   ],
   "source": [
    "df.duplicated().unique()"
   ]
  },
  {
   "cell_type": "code",
   "execution_count": 45,
   "metadata": {},
   "outputs": [
    {
     "data": {
      "text/plain": [
       "(185686, 10)"
      ]
     },
     "execution_count": 45,
     "metadata": {},
     "output_type": "execute_result"
    }
   ],
   "source": [
    "df.shape"
   ]
  },
  {
   "cell_type": "code",
   "execution_count": 44,
   "metadata": {},
   "outputs": [],
   "source": [
    "df.drop_duplicates(inplace=True)"
   ]
  },
  {
   "cell_type": "code",
   "execution_count": 48,
   "metadata": {},
   "outputs": [
    {
     "data": {
      "text/plain": [
       "Order ID            0\n",
       "Product             0\n",
       "Quantity Ordered    0\n",
       "Price Each          0\n",
       "Order Date          0\n",
       "Purchase Address    0\n",
       "Month               0\n",
       "Sales               0\n",
       "City                0\n",
       "Hour                0\n",
       "dtype: int64"
      ]
     },
     "execution_count": 48,
     "metadata": {},
     "output_type": "execute_result"
    }
   ],
   "source": [
    "df.isna().sum()"
   ]
  },
  {
   "cell_type": "code",
   "execution_count": 49,
   "metadata": {},
   "outputs": [
    {
     "data": {
      "text/plain": [
       "Order ID            0\n",
       "Product             0\n",
       "Quantity Ordered    0\n",
       "Price Each          0\n",
       "Order Date          0\n",
       "Purchase Address    0\n",
       "Month               0\n",
       "Sales               0\n",
       "City                0\n",
       "Hour                0\n",
       "dtype: int64"
      ]
     },
     "execution_count": 49,
     "metadata": {},
     "output_type": "execute_result"
    }
   ],
   "source": [
    "df.isnull().sum()"
   ]
  },
  {
   "cell_type": "code",
   "execution_count": null,
   "metadata": {},
   "outputs": [],
   "source": []
  }
 ],
 "metadata": {
  "kernelspec": {
   "display_name": "env",
   "language": "python",
   "name": "python3"
  },
  "language_info": {
   "codemirror_mode": {
    "name": "ipython",
    "version": 3
   },
   "file_extension": ".py",
   "mimetype": "text/x-python",
   "name": "python",
   "nbconvert_exporter": "python",
   "pygments_lexer": "ipython3",
   "version": "3.11.1"
  },
  "orig_nbformat": 4
 },
 "nbformat": 4,
 "nbformat_minor": 2
}
